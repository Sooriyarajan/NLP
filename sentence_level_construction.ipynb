{
 "cells": [
  {
   "cell_type": "code",
   "execution_count": 24,
   "metadata": {},
   "outputs": [
    {
     "name": "stdout",
     "output_type": "stream",
     "text": [
      "Token : I\n",
      "Lemma : I\n",
      "pos : PRON\n",
      "\n",
      "Token : want\n",
      "Lemma : want\n",
      "pos : VERB\n",
      "\n",
      "Token : to\n",
      "Lemma : to\n",
      "pos : PART\n",
      "\n",
      "Token : eat\n",
      "Lemma : eat\n",
      "pos : VERB\n",
      "\n",
      "Token : pizza\n",
      "Lemma : pizza\n",
      "pos : NOUN\n",
      "\n",
      "Preposition Phrases : []\n",
      "Gerundive Phrases : []\n",
      "Infinite Clauses : []\n",
      "Relative Clauses : ['I']\n"
     ]
    }
   ],
   "source": [
    "import spacy\n",
    "\n",
    "nlp = spacy.load(\"en_core_web_sm\")\n",
    "\n",
    "sent = \"I want to eat pizza\"\n",
    "doc = nlp(sent)\n",
    "for token in doc:\n",
    "  print(f\"Token : {token.text}\\nLemma : {token.lemma_}\\npos : {token.pos_}\\n\")\n",
    "\n",
    "prepos_phrases = []\n",
    "for token in doc:\n",
    "    if token.pos_ == \"ADP\":  # Check if it's a preposition\n",
    "        prep_phrase = token.text\n",
    "        for child in token.children:\n",
    "            prep_phrase += \" \" + child.text\n",
    "        prepos_phrases.append(prep_phrase)\n",
    "print(f\"Preposition Phrases : {prepos_phrases}\")\n",
    "\n",
    "ger_phrases = []\n",
    "for token in doc:\n",
    "    if token.pos_ == \"VERB\" and token.text.endswith(\"ing\"):  # Check for gerund\n",
    "        gerundive_phrase = token.text\n",
    "        for child in token.children:\n",
    "            gerundive_phrase += \" \" + child.text\n",
    "        ger_phrases.append(gerundive_phrase)\n",
    "print(f\"Gerundive Phrases : {ger_phrases}\")\n",
    "\n",
    "inf_clause = []\n",
    "for token in doc:\n",
    "    if token.pos_ == \"VERB\" and token.lemma_ == \"to\":\n",
    "        infinitive_clause = token.text\n",
    "        for child in token.children:\n",
    "            infinitive_clause += \" \" + child.text\n",
    "        inf_clause.append(infinitive_clause)\n",
    "print(f\"Infinite Clauses : {inf_clause}\")\n",
    "\n",
    "rel_clause = []\n",
    "for token in doc:\n",
    "    if \"nsubj\" in token.dep_:\n",
    "        for child in token.subtree:\n",
    "            rel_clause.append(child.text)\n",
    "print(f\"Relative Clauses : {rel_clause}\")\n"
   ]
  }
 ],
 "metadata": {
  "kernelspec": {
   "display_name": "Python 3",
   "language": "python",
   "name": "python3"
  },
  "language_info": {
   "codemirror_mode": {
    "name": "ipython",
    "version": 3
   },
   "file_extension": ".py",
   "mimetype": "text/x-python",
   "name": "python",
   "nbconvert_exporter": "python",
   "pygments_lexer": "ipython3",
   "version": "3.11.5"
  },
  "orig_nbformat": 4
 },
 "nbformat": 4,
 "nbformat_minor": 2
}
