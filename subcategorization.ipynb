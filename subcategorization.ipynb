{
 "cells": [
  {
   "cell_type": "code",
   "execution_count": 6,
   "metadata": {},
   "outputs": [
    {
     "name": "stdout",
     "output_type": "stream",
     "text": [
      "eats: apple\n"
     ]
    }
   ],
   "source": [
    "import spacy\n",
    "\n",
    "nlp = spacy.load(\"en_core_web_sm\")\n",
    "\n",
    "sent = \"she eats an apple\"\n",
    "\n",
    "doc = nlp(sent)\n",
    "\n",
    "subat = {}\n",
    "for token in doc:\n",
    "  if token.dep_ == \"dobj\":\n",
    "    verb = token.head.text\n",
    "    obj = token.text\n",
    "    if verb not in subat:\n",
    "      subat[verb] = []\n",
    "    subat[verb].append(obj)\n",
    "for verb,object1 in subat.items():\n",
    "  print(f\"{verb}: {''.join(object1)}\")"
   ]
  }
 ],
 "metadata": {
  "kernelspec": {
   "display_name": "Python 3",
   "language": "python",
   "name": "python3"
  },
  "language_info": {
   "codemirror_mode": {
    "name": "ipython",
    "version": 3
   },
   "file_extension": ".py",
   "mimetype": "text/x-python",
   "name": "python",
   "nbconvert_exporter": "python",
   "pygments_lexer": "ipython3",
   "version": "3.11.5"
  },
  "orig_nbformat": 4
 },
 "nbformat": 4,
 "nbformat_minor": 2
}
