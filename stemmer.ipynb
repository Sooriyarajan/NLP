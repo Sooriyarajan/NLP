{
 "cells": [
  {
   "cell_type": "code",
   "execution_count": 4,
   "metadata": {},
   "outputs": [
    {
     "name": "stdout",
     "output_type": "stream",
     "text": [
      "Original: I am running in the park\n",
      "Stemmed: i am run in the park\n",
      "\n",
      "Original: The running shoes are on sale\n",
      "Stemmed: the run shoe are on sale\n",
      "\n",
      "Original: She ran to catch the bus\n",
      "Stemmed: she ran to catch the bu\n",
      "\n"
     ]
    }
   ],
   "source": [
    "import nltk\n",
    "from nltk.stem import PorterStemmer\n",
    "\n",
    "stemmer = PorterStemmer()\n",
    "\n",
    "sentences = [\n",
    "    \"I am running in the park\",\n",
    "    \"The running shoes are on sale\",\n",
    "    \"She ran to catch the bus\"\n",
    "]\n",
    "\n",
    "for sentence in sentences:\n",
    "    words = nltk.word_tokenize(sentence)\n",
    "    stemmed_words = [stemmer.stem(word) for word in words]\n",
    "    stemmed_sentence = \" \".join(stemmed_words)\n",
    "    print(f\"Original: {sentence}\")\n",
    "    print(f\"Stemmed: {stemmed_sentence}\\n\")"
   ]
  }
 ],
 "metadata": {
  "kernelspec": {
   "display_name": "Python 3",
   "language": "python",
   "name": "python3"
  },
  "language_info": {
   "codemirror_mode": {
    "name": "ipython",
    "version": 3
   },
   "file_extension": ".py",
   "mimetype": "text/x-python",
   "name": "python",
   "nbconvert_exporter": "python",
   "pygments_lexer": "ipython3",
   "version": "3.11.5"
  },
  "orig_nbformat": 4
 },
 "nbformat": 4,
 "nbformat_minor": 2
}
